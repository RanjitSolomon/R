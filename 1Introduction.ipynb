{
 "cells": [
  {
   "cell_type": "markdown",
   "metadata": {},
   "source": [
    "# edX Microsoft : DAT209x Programming with R for Data Science"
   ]
  },
  {
   "cell_type": "markdown",
   "metadata": {},
   "source": [
    "# Notebook shortcuts\n",
    "'ESC' to get to command prompt    \n",
    "A to insert a cell above the current cell  \n",
    "B to insert a cell below the current cell  \n",
    "M to set the cell Markdown  \n",
    "enter to enter into the cell  \n",
    "Add two spaces at the end to make a line break  \n",
    "'#' largest heading  \n",
    "'####' smaller heading  "
   ]
  },
  {
   "cell_type": "markdown",
   "metadata": {},
   "source": [
    "## Introduction"
   ]
  },
  {
   "cell_type": "code",
   "execution_count": 8,
   "metadata": {
    "collapsed": true
   },
   "outputs": [],
   "source": [
    "set.seed(476)"
   ]
  },
  {
   "cell_type": "code",
   "execution_count": 9,
   "metadata": {
    "collapsed": false
   },
   "outputs": [],
   "source": [
    "x <- rnorm(100)"
   ]
  },
  {
   "cell_type": "code",
   "execution_count": 10,
   "metadata": {
    "collapsed": false
   },
   "outputs": [
    {
     "data": {
      "text/html": [
       "<ol class=list-inline>\n",
       "\t<li>-0.259658827115081</li>\n",
       "\t<li>-0.543928748781071</li>\n",
       "\t<li>-0.397645938992977</li>\n",
       "\t<li>-0.805136600320548</li>\n",
       "\t<li>-0.885429804502682</li>\n",
       "\t<li>-0.131783413719148</li>\n",
       "</ol>\n"
      ],
      "text/latex": [
       "\\begin{enumerate*}\n",
       "\\item -0.259658827115081\n",
       "\\item -0.543928748781071\n",
       "\\item -0.397645938992977\n",
       "\\item -0.805136600320548\n",
       "\\item -0.885429804502682\n",
       "\\item -0.131783413719148\n",
       "\\end{enumerate*}\n"
      ],
      "text/markdown": [
       "1. -0.259658827115081\n",
       "2. -0.543928748781071\n",
       "3. -0.397645938992977\n",
       "4. -0.805136600320548\n",
       "5. -0.885429804502682\n",
       "6. -0.131783413719148\n",
       "\n",
       "\n"
      ],
      "text/plain": [
       "[1] -0.2596588 -0.5439287 -0.3976459 -0.8051366 -0.8854298 -0.1317834"
      ]
     },
     "metadata": {},
     "output_type": "display_data"
    }
   ],
   "source": [
    "head(x)"
   ]
  },
  {
   "cell_type": "code",
   "execution_count": 11,
   "metadata": {
    "collapsed": false
   },
   "outputs": [
    {
     "data": {
      "text/html": [
       "0.0461312650105662"
      ],
      "text/latex": [
       "0.0461312650105662"
      ],
      "text/markdown": [
       "0.0461312650105662"
      ],
      "text/plain": [
       "[1] 0.04613127"
      ]
     },
     "metadata": {},
     "output_type": "display_data"
    },
    {
     "data": {
      "text/html": [
       "1.01318515246851"
      ],
      "text/latex": [
       "1.01318515246851"
      ],
      "text/markdown": [
       "1.01318515246851"
      ],
      "text/plain": [
       "[1] 1.013185"
      ]
     },
     "metadata": {},
     "output_type": "display_data"
    },
    {
     "data": {
      "text/html": [
       "-3.20791594624788"
      ],
      "text/latex": [
       "-3.20791594624788"
      ],
      "text/markdown": [
       "-3.20791594624788"
      ],
      "text/plain": [
       "[1] -3.207916"
      ]
     },
     "metadata": {},
     "output_type": "display_data"
    },
    {
     "data": {
      "text/html": [
       "2.55092278500848"
      ],
      "text/latex": [
       "2.55092278500848"
      ],
      "text/markdown": [
       "2.55092278500848"
      ],
      "text/plain": [
       "[1] 2.550923"
      ]
     },
     "metadata": {},
     "output_type": "display_data"
    }
   ],
   "source": [
    "mean(x)\n",
    "sd(x)\n",
    "min(x)\n",
    "max(x)"
   ]
  },
  {
   "cell_type": "markdown",
   "metadata": {},
   "source": [
    "##### Basic Operations"
   ]
  },
  {
   "cell_type": "code",
   "execution_count": 12,
   "metadata": {
    "collapsed": false
   },
   "outputs": [
    {
     "data": {
      "text/html": [
       "4"
      ],
      "text/latex": [
       "4"
      ],
      "text/markdown": [
       "4"
      ],
      "text/plain": [
       "[1] 4"
      ]
     },
     "metadata": {},
     "output_type": "display_data"
    },
    {
     "data": {
      "text/html": [
       "119"
      ],
      "text/latex": [
       "119"
      ],
      "text/markdown": [
       "119"
      ],
      "text/plain": [
       "[1] 119"
      ]
     },
     "metadata": {},
     "output_type": "display_data"
    },
    {
     "data": {
      "text/html": [
       "3"
      ],
      "text/latex": [
       "3"
      ],
      "text/markdown": [
       "3"
      ],
      "text/plain": [
       "[1] 3"
      ]
     },
     "metadata": {},
     "output_type": "display_data"
    },
    {
     "data": {
      "text/html": [
       "27"
      ],
      "text/latex": [
       "27"
      ],
      "text/markdown": [
       "27"
      ],
      "text/plain": [
       "[1] 27"
      ]
     },
     "metadata": {},
     "output_type": "display_data"
    },
    {
     "data": {
      "text/html": [
       "1.94591014905531"
      ],
      "text/latex": [
       "1.94591014905531"
      ],
      "text/markdown": [
       "1.94591014905531"
      ],
      "text/plain": [
       "[1] 1.94591"
      ]
     },
     "metadata": {},
     "output_type": "display_data"
    },
    {
     "data": {
      "text/html": [
       "0.845098040014257"
      ],
      "text/latex": [
       "0.845098040014257"
      ],
      "text/markdown": [
       "0.845098040014257"
      ],
      "text/plain": [
       "[1] 0.845098"
      ]
     },
     "metadata": {},
     "output_type": "display_data"
    }
   ],
   "source": [
    "2+2\n",
    "7*17\n",
    "sqrt(9)\n",
    "3^3\n",
    "log(7)\n",
    "log10(7)"
   ]
  },
  {
   "cell_type": "markdown",
   "metadata": {},
   "source": [
    "##### Precision"
   ]
  },
  {
   "cell_type": "code",
   "execution_count": 15,
   "metadata": {
    "collapsed": false
   },
   "outputs": [
    {
     "data": {
      "text/html": [
       "1"
      ],
      "text/latex": [
       "1"
      ],
      "text/markdown": [
       "1"
      ],
      "text/plain": [
       "[1] 1"
      ]
     },
     "metadata": {},
     "output_type": "display_data"
    },
    {
     "data": {
      "text/html": [
       "3.14159265358979"
      ],
      "text/latex": [
       "3.14159265358979"
      ],
      "text/markdown": [
       "3.14159265358979"
      ],
      "text/plain": [
       "[1] 3.1"
      ]
     },
     "metadata": {},
     "output_type": "display_data"
    },
    {
     "data": {
      "text/html": [
       "3.14159265358979"
      ],
      "text/latex": [
       "3.14159265358979"
      ],
      "text/markdown": [
       "3.14159265358979"
      ],
      "text/plain": [
       "[1] 3.1415926535897931"
      ]
     },
     "metadata": {},
     "output_type": "display_data"
    }
   ],
   "source": [
    "sin(pi/2)\n",
    "pi\n",
    "options(digits=22)\n",
    "pi"
   ]
  },
  {
   "cell_type": "markdown",
   "metadata": {},
   "source": [
    "##### Infinity or not defined, and missings"
   ]
  },
  {
   "cell_type": "code",
   "execution_count": 16,
   "metadata": {
    "collapsed": false
   },
   "outputs": [
    {
     "data": {
      "text/html": [
       "Inf"
      ],
      "text/latex": [
       "Inf"
      ],
      "text/markdown": [
       "Inf"
      ],
      "text/plain": [
       "[1] Inf"
      ]
     },
     "metadata": {},
     "output_type": "display_data"
    },
    {
     "data": {
      "text/html": [
       "Inf"
      ],
      "text/latex": [
       "Inf"
      ],
      "text/markdown": [
       "Inf"
      ],
      "text/plain": [
       "[1] Inf"
      ]
     },
     "metadata": {},
     "output_type": "display_data"
    },
    {
     "data": {
      "text/html": [
       "-Inf"
      ],
      "text/latex": [
       "-Inf"
      ],
      "text/markdown": [
       "-Inf"
      ],
      "text/plain": [
       "[1] -Inf"
      ]
     },
     "metadata": {},
     "output_type": "display_data"
    },
    {
     "data": {
      "text/html": [
       "NaN"
      ],
      "text/latex": [
       "NaN"
      ],
      "text/markdown": [
       "NaN"
      ],
      "text/plain": [
       "[1] NaN"
      ]
     },
     "metadata": {},
     "output_type": "display_data"
    },
    {
     "data": {
      "text/html": [
       "<ol class=list-inline>\n",
       "\t<li>1</li>\n",
       "\t<li>2</li>\n",
       "\t<li>3</li>\n",
       "\t<li>NA</li>\n",
       "\t<li>5</li>\n",
       "</ol>\n"
      ],
      "text/latex": [
       "\\begin{enumerate*}\n",
       "\\item 1\n",
       "\\item 2\n",
       "\\item 3\n",
       "\\item NA\n",
       "\\item 5\n",
       "\\end{enumerate*}\n"
      ],
      "text/markdown": [
       "1. 1\n",
       "2. 2\n",
       "3. 3\n",
       "4. NA\n",
       "5. 5\n",
       "\n",
       "\n"
      ],
      "text/plain": [
       "[1]  1  2  3 NA  5"
      ]
     },
     "metadata": {},
     "output_type": "display_data"
    },
    {
     "data": {
      "text/plain": [
       "[1] NA"
      ]
     },
     "metadata": {},
     "output_type": "display_data"
    }
   ],
   "source": [
    "1/0\n",
    "2*Inf\n",
    "-1/0\n",
    "0/0\n",
    "c(1,2,3,NA,5)\n",
    "mean(c(1,2,3,NA,5))"
   ]
  },
  {
   "cell_type": "markdown",
   "metadata": {},
   "source": [
    "##### Assignments to varaibles"
   ]
  },
  {
   "cell_type": "code",
   "execution_count": 17,
   "metadata": {
    "collapsed": false
   },
   "outputs": [
    {
     "data": {
      "text/html": [
       "5"
      ],
      "text/latex": [
       "5"
      ],
      "text/markdown": [
       "5"
      ],
      "text/plain": [
       "[1] 5"
      ]
     },
     "metadata": {},
     "output_type": "display_data"
    },
    {
     "data": {
      "text/html": [
       "25"
      ],
      "text/latex": [
       "25"
      ],
      "text/markdown": [
       "25"
      ],
      "text/plain": [
       "[1] 25"
      ]
     },
     "metadata": {},
     "output_type": "display_data"
    },
    {
     "data": {
      "text/html": [
       "<ol class=list-inline>\n",
       "\t<li>'x'</li>\n",
       "\t<li>'y'</li>\n",
       "</ol>\n"
      ],
      "text/latex": [
       "\\begin{enumerate*}\n",
       "\\item 'x'\n",
       "\\item 'y'\n",
       "\\end{enumerate*}\n"
      ],
      "text/markdown": [
       "1. 'x'\n",
       "2. 'y'\n",
       "\n",
       "\n"
      ],
      "text/plain": [
       "[1] \"x\" \"y\""
      ]
     },
     "metadata": {},
     "output_type": "display_data"
    },
    {
     "data": {
      "text/html": [
       "'y'"
      ],
      "text/latex": [
       "'y'"
      ],
      "text/markdown": [
       "'y'"
      ],
      "text/plain": [
       "[1] \"y\""
      ]
     },
     "metadata": {},
     "output_type": "display_data"
    }
   ],
   "source": [
    "rm(list=ls())\n",
    "options(digits=7)\n",
    "x <- 5\n",
    "x\n",
    "#x=5 can be used; not recormmended\n",
    "x * x\n",
    "y <- x+5\n",
    "ls()\n",
    "rm(x)\n",
    "ls()"
   ]
  },
  {
   "cell_type": "markdown",
   "metadata": {},
   "source": [
    "##### Internal help function"
   ]
  },
  {
   "cell_type": "code",
   "execution_count": 18,
   "metadata": {
    "collapsed": false
   },
   "outputs": [
    {
     "name": "stdout",
     "output_type": "stream",
     "text": [
      "\n",
      "mean> x <- c(0:10, 50)\n",
      "\n",
      "mean> xm <- mean(x)\n",
      "\n",
      "mean> c(xm, mean(x, trim = 0.10))\n",
      "[1] 8.75 5.50\n"
     ]
    },
    {
     "name": "stderr",
     "output_type": "stream",
     "text": [
      "starting httpd help server ... done\n"
     ]
    },
    {
     "data": {},
     "metadata": {},
     "output_type": "display_data"
    },
    {
     "name": "stdout",
     "output_type": "stream",
     "text": [
      "If nothing happens, you should open\n",
      "'http://127.0.0.1:28098/doc/html/index.html' yourself\n"
     ]
    }
   ],
   "source": [
    "?mean   # shorthand for help(mean)\n",
    "example(mean)\n",
    "??\"fitting linear model\"  # shorthand for help.search(\"fitting linear model\") manuals\n",
    "help.start()"
   ]
  },
  {
   "cell_type": "markdown",
   "metadata": {},
   "source": [
    "#### Exercise 1.1\n",
    "Let's try to use R to solve a simple mathematical equation. \n",
    "𝑋 is normally distributed with some values for mean and variance, say, 𝑋~𝑁 (𝜇, 𝜎2). \n",
    "Which value is the mean of 𝑌 = 𝑒^𝑋 ?\n",
    "\n",
    "a) 𝑒^(𝜇+𝜎2/2)    \n",
    "\n",
    "b) 𝑒^(𝜇−𝜎2/2)\n",
    "\n",
    "Use the rnorm() function and the other functions from the first slide in the introduction session to figure it out.\n",
    "HINT: The mean 𝜇 and variance 𝜎2 of the standard normal distribution are 0 and 1 respectively."
   ]
  },
  {
   "cell_type": "markdown",
   "metadata": {},
   "source": [
    "##### Question 1\n",
    "Which option is closer to the mean of Y? a) or b)?\n",
    ": a   b   neither both"
   ]
  },
  {
   "cell_type": "markdown",
   "metadata": {},
   "source": [
    "The standard rnorm() function corresponds to mean  𝜇 = 0  and variance 𝜎^2 = 1. Using the mean() function, we can simulate the mean of Y with the following code:\n",
    "\n",
    "a) 𝑒^(𝜇+𝜎^2/2)   # 𝜇 = 0  and variance 𝜎^2 = 1, exp(0 + 1/2)=0.6065307\n",
    "\n",
    "b) 𝑒^(𝜇−𝜎2/2)   # exp(0-1/2) = 1.648721\n",
    "\n",
    "mean(exp(rnorm(1000)))"
   ]
  },
  {
   "cell_type": "code",
   "execution_count": 22,
   "metadata": {
    "collapsed": false
   },
   "outputs": [
    {
     "data": {
      "text/html": [
       "0.606530659712633"
      ],
      "text/latex": [
       "0.606530659712633"
      ],
      "text/markdown": [
       "0.606530659712633"
      ],
      "text/plain": [
       "[1] 0.6065307"
      ]
     },
     "metadata": {},
     "output_type": "display_data"
    },
    {
     "data": {
      "text/html": [
       "1.64872127070013"
      ],
      "text/latex": [
       "1.64872127070013"
      ],
      "text/markdown": [
       "1.64872127070013"
      ],
      "text/plain": [
       "[1] 1.648721"
      ]
     },
     "metadata": {},
     "output_type": "display_data"
    },
    {
     "data": {
      "text/html": [
       "1.59788807352942"
      ],
      "text/latex": [
       "1.59788807352942"
      ],
      "text/markdown": [
       "1.59788807352942"
      ],
      "text/plain": [
       "[1] 1.597888"
      ]
     },
     "metadata": {},
     "output_type": "display_data"
    }
   ],
   "source": [
    "exp(0-1/2)\n",
    "exp(0+1/2)\n",
    "x <- rnorm(1000)\n",
    "y <- exp(x)\n",
    "mean(y)      # Which returns a value of about 1.6-1.7, bigger than 1. Therefore, the solution is a"
   ]
  },
  {
   "cell_type": "markdown",
   "metadata": {},
   "source": [
    "##### Discussion\n",
    "##### What the heck is exp()?\n",
    "I fell at the first hurdle! :) It has been a REALLY long time since I did formal Statistics and Mathematics and although I would like to think I am reasonably good as grasping the concepts I think I might struggle with the actual maths, especially the symbolic representations. To save someone else the headache I thought I would post a comment here. I didn't understand why exp(0-1/2) gives 0.6 and exp(0+1/2) gives 1.6. exp() is a computer notation for the e^x where e is acutally Eulers constant ( approximately 2.718 ). the application of the larger the factor, the more distance between e and the factor result which effectively drags up the mean of the factored results so the results will gravitate towards the e^0.5 rather than towards e^-0.5 I hope I have that right, if not I am sure someone will correct me."
   ]
  },
  {
   "cell_type": "markdown",
   "metadata": {},
   "source": [
    "#### Exercise 1.2\n",
    "The general polynomial equation 𝐴𝑋^2 + 𝐵𝑋 + 𝐶 = 0 \n",
    "has the solutions -B + sqrt(B^2 -4AC)/2A or -B - sqrt(B^2 -4AC)/2A \n",
    "\n",
    "\n",
    "Now, let say you have the following polynomial equation:\n",
    "X^2 + 3X + 1 = 0\n",
    "\n",
    "1. Construct a vector of length 2 that contains the solutions to the equation (a), and display it on the screen with 1 decimal point.\n",
    "\n",
    "2.Work out how much error you make (in percent) by referring to the solutions with just one decimal. The result will be different for the two solutions.\n",
    "\n",
    "Question : Which are the possible solutions for task 1?\n",
    "-0.4, 0.4, 2.6, -2.6\n"
   ]
  },
  {
   "cell_type": "code",
   "execution_count": 20,
   "metadata": {
    "collapsed": true
   },
   "outputs": [],
   "source": [
    "# hint : In our case, we have A=1, B=3 and C=1. We can thus construct the vector of the solutions as follows:\n",
    "# A <- 1, B <- 3, C <- 1\n",
    "# my.vector<-c((-B+sqrt(B^2-4*A*C))/(2*A),(-B-sqrt(B^2-4*A*C))/(2*A))\n",
    "# Typing the identifier in the R command prompt give the result: my.vector [1] -0.381966 -2.618034"
   ]
  },
  {
   "cell_type": "code",
   "execution_count": 21,
   "metadata": {
    "collapsed": false
   },
   "outputs": [
    {
     "data": {
      "text/html": [
       "<ol class=list-inline>\n",
       "\t<li>-0.381966011250105</li>\n",
       "\t<li>-2.61803398874989</li>\n",
       "</ol>\n"
      ],
      "text/latex": [
       "\\begin{enumerate*}\n",
       "\\item -0.381966011250105\n",
       "\\item -2.61803398874989\n",
       "\\end{enumerate*}\n"
      ],
      "text/markdown": [
       "1. -0.381966011250105\n",
       "2. -2.61803398874989\n",
       "\n",
       "\n"
      ],
      "text/plain": [
       "[1] -0.381966 -2.618034"
      ]
     },
     "metadata": {},
     "output_type": "display_data"
    }
   ],
   "source": [
    "A <- 1\n",
    "B <- 3\n",
    "C <- 1\n",
    "my.vector<-c((-B+sqrt(B^2-4*A*C))/(2*A),(-B-sqrt(B^2-4*A*C))/(2*A))\n",
    "my.vector"
   ]
  },
  {
   "cell_type": "markdown",
   "metadata": {},
   "source": [
    "##### Exercise 1.3\n",
    "Construct the object x as follows:\n",
    "\n",
    "x <- rnorm(100, mean=.5, sd=.3)\n",
    "\n",
    "Perform the following task (check out the help system as needed): \n",
    "\n",
    "1.Calculate mean and standard deviation of x.\n",
    "\n",
    "2.Plot a histogram of x.\n",
    "\n",
    "3.Put the second axis on the right side of the histogram plot instead of on the left.\n",
    "\n",
    "Question \n",
    "\n",
    "If you set the seed as 1234, run set.seed(1234), prior to assigning the variables to x, which options represent the mean and standard deviation for task 1? (one option is the mean, the other is the standard deviation).\n",
    "\n",
    "0.4529715, 0.3013216, 0.5123424, 0.2995845\n"
   ]
  },
  {
   "cell_type": "code",
   "execution_count": 36,
   "metadata": {
    "collapsed": false
   },
   "outputs": [
    {
     "data": {
      "text/html": [
       "0.452971477267388"
      ],
      "text/latex": [
       "0.452971477267388"
      ],
      "text/markdown": [
       "0.452971477267388"
      ],
      "text/plain": [
       "[1] 0.4529715"
      ]
     },
     "metadata": {},
     "output_type": "display_data"
    },
    {
     "data": {
      "text/html": [
       "0.301321590916126"
      ],
      "text/latex": [
       "0.301321590916126"
      ],
      "text/markdown": [
       "0.301321590916126"
      ],
      "text/plain": [
       "[1] 0.3013216"
      ]
     },
     "metadata": {},
     "output_type": "display_data"
    },
    {
     "data": {
      "image/png": "[encoded data removed]",
      "text/plain": [
       "Plot with title \"Histogram of x\""
      ]
     },
     "metadata": {},
     "output_type": "display_data"
    }
   ],
   "source": [
    "set.seed(1234)\n",
    "x <- rnorm(100, mean=.5, sd=.3)\n",
    "mean(x)\n",
    "sd(x)\n",
    "hist(x, axes=FALSE, ylab=\"\")   # ??histogram\n",
    "axis(4)     # axis is placed as follows 1=below, 2=left, 3-above, and 4=right\n",
    "axis(1)\n"
   ]
  },
  {
   "cell_type": "markdown",
   "metadata": {},
   "source": [
    "##### Discussion\n",
    "Axes and axis are still confused in the instructions above\n",
    "\n",
    "- Axes is is the plural form of the word axis\n",
    "- Google says that axes is the only word in English that can be the plural of three different singular noun forms: ax, axe, and axis...\n"
   ]
  },
  {
   "cell_type": "markdown",
   "metadata": {},
   "source": [
    "#### Quiz \n",
    "Question 1\n",
    "You are examining the following code\n",
    "\n",
    "set.seed(1)\n",
    "\n",
    "x <- rnorm(100)\n",
    "\n",
    "What will be printed in the console when you run head(x)?\n",
    "\n",
    "The first 5, or 6 of the elments of the vector x? or the last 5 or 6 ?\n",
    "\n",
    "Answer: first 6\n",
    "\n",
    "\n",
    "Question 2\n",
    "\n",
    "You want to open the review the internal help documentation for the tail() function.\n",
    "Answer: help(tail), ?tail, ?\"tail\"\n",
    "\n",
    "Question 3\n",
    "\n",
    "You are examing the cose   x <- 5:6 What will be returned when you show the value x in the console?\n",
    "Answer : 5 6 \n",
    "\n",
    "Question 4\n",
    "\n",
    "You are examing the following code\n",
    "\n",
    "x <- 5 + 6  \n",
    "y <- x + 3  \n",
    "z <- y - 10  \n",
    "\n",
    "What is the value of z after you run the code?\n",
    "Answer: 4\n",
    "\n",
    "Question 5  \n",
    "Which function can be used to list all the R objects stored in the working memory?  \n",
    "lm(), lst(), list(), ls()  \n",
    "\n",
    "Answer: ls()\n"
   ]
  },
  {
   "cell_type": "code",
   "execution_count": 37,
   "metadata": {
    "collapsed": false
   },
   "outputs": [
    {
     "data": {
      "text/html": [
       "<ol class=list-inline>\n",
       "\t<li>-0.626453810742332</li>\n",
       "\t<li>0.183643324222082</li>\n",
       "\t<li>-0.835628612410047</li>\n",
       "\t<li>1.59528080213779</li>\n",
       "\t<li>0.329507771815361</li>\n",
       "\t<li>-0.820468384118015</li>\n",
       "</ol>\n"
      ],
      "text/latex": [
       "\\begin{enumerate*}\n",
       "\\item -0.626453810742332\n",
       "\\item 0.183643324222082\n",
       "\\item -0.835628612410047\n",
       "\\item 1.59528080213779\n",
       "\\item 0.329507771815361\n",
       "\\item -0.820468384118015\n",
       "\\end{enumerate*}\n"
      ],
      "text/markdown": [
       "1. -0.626453810742332\n",
       "2. 0.183643324222082\n",
       "3. -0.835628612410047\n",
       "4. 1.59528080213779\n",
       "5. 0.329507771815361\n",
       "6. -0.820468384118015\n",
       "\n",
       "\n"
      ],
      "text/plain": [
       "[1] -0.6264538  0.1836433 -0.8356286  1.5952808  0.3295078 -0.8204684"
      ]
     },
     "metadata": {},
     "output_type": "display_data"
    }
   ],
   "source": [
    "set.seed(1)\n",
    "x <- rnorm(100)\n",
    "head(x)"
   ]
  },
  {
   "cell_type": "code",
   "execution_count": 41,
   "metadata": {
    "collapsed": false
   },
   "outputs": [
    {
     "ename": "ERROR",
     "evalue": "Error in eval(expr, envir, enclos): could not find function \"internal\"\n",
     "output_type": "error",
     "traceback": [
      "Error in eval(expr, envir, enclos): could not find function \"internal\"\nTraceback:\n"
     ]
    }
   ],
   "source": [
    "# ?tail\n",
    "# ?\"tail\"\n",
    "# help(tail)\n",
    "# internal(tail) # Incorrect"
   ]
  },
  {
   "cell_type": "code",
   "execution_count": 43,
   "metadata": {
    "collapsed": false
   },
   "outputs": [
    {
     "data": {
      "text/html": [
       "<ol class=list-inline>\n",
       "\t<li>5</li>\n",
       "\t<li>6</li>\n",
       "</ol>\n"
      ],
      "text/latex": [
       "\\begin{enumerate*}\n",
       "\\item 5\n",
       "\\item 6\n",
       "\\end{enumerate*}\n"
      ],
      "text/markdown": [
       "1. 5\n",
       "2. 6\n",
       "\n",
       "\n"
      ],
      "text/plain": [
       "[1] 5 6"
      ]
     },
     "metadata": {},
     "output_type": "display_data"
    }
   ],
   "source": [
    "x <- 5:6\n",
    "x"
   ]
  },
  {
   "cell_type": "code",
   "execution_count": 44,
   "metadata": {
    "collapsed": false
   },
   "outputs": [
    {
     "data": {
      "text/html": [
       "4"
      ],
      "text/latex": [
       "4"
      ],
      "text/markdown": [
       "4"
      ],
      "text/plain": [
       "[1] 4"
      ]
     },
     "metadata": {},
     "output_type": "display_data"
    }
   ],
   "source": [
    "x <- 5 + 6\n",
    "y <- x + 3\n",
    "z <- y - 10\n",
    "z"
   ]
  },
  {
   "cell_type": "markdown",
   "metadata": {},
   "source": [
    "#### Lab\n",
    "In this very first assignment, you need to perform the following tasks:  \n",
    "1. Assign the first five positive odd numbers to a vector named A.\n",
    "2. Assign the mean of vector A to variable B.\n",
    "3. Assign the first five positive even numbers (zero excluded) to a vector named X.\n",
    "4. Add vector A and X and assign the result to variable Z.\n"
   ]
  },
  {
   "cell_type": "code",
   "execution_count": 45,
   "metadata": {
    "collapsed": false
   },
   "outputs": [
    {
     "data": {
      "text/html": [
       "<ol class=list-inline>\n",
       "\t<li>3</li>\n",
       "\t<li>6</li>\n",
       "\t<li>9</li>\n",
       "\t<li>12</li>\n",
       "\t<li>15</li>\n",
       "</ol>\n"
      ],
      "text/latex": [
       "\\begin{enumerate*}\n",
       "\\item 3\n",
       "\\item 6\n",
       "\\item 9\n",
       "\\item 12\n",
       "\\item 15\n",
       "\\end{enumerate*}\n"
      ],
      "text/markdown": [
       "1. 3\n",
       "2. 6\n",
       "3. 9\n",
       "4. 12\n",
       "5. 15\n",
       "\n",
       "\n"
      ],
      "text/plain": [
       "[1]  3  6  9 12 15"
      ]
     },
     "metadata": {},
     "output_type": "display_data"
    }
   ],
   "source": [
    "A <- 1:5\n",
    "B <- mean(A)\n",
    "X <- seq(2,10,2)\n",
    "Z <- A + X\n",
    "Z"
   ]
  }
 ],
 "metadata": {
  "kernelspec": {
   "display_name": "R",
   "language": "R",
   "name": "ir"
  },
  "language_info": {
   "codemirror_mode": "r",
   "file_extension": ".r",
   "mimetype": "text/x-r-source",
   "name": "R",
   "pygments_lexer": "r",
   "version": "3.3.2"
  }
 },
 "nbformat": 4,
 "nbformat_minor": 2
}
